{
  "nbformat": 4,
  "nbformat_minor": 0,
  "metadata": {
    "colab": {
      "name": "act2.py",
      "provenance": [],
      "authorship_tag": "ABX9TyMoZJb6WOMEkadN6wo+xa4v",
      "include_colab_link": true
    },
    "kernelspec": {
      "name": "python3",
      "display_name": "Python 3"
    }
  },
  "cells": [
    {
      "cell_type": "markdown",
      "metadata": {
        "id": "view-in-github",
        "colab_type": "text"
      },
      "source": [
        "<a href=\"https://colab.research.google.com/github/mariron42/Los-trabajos-de-marcel/blob/main/act2_py.ipynb\" target=\"_parent\"><img src=\"https://colab.research.google.com/assets/colab-badge.svg\" alt=\"Open In Colab\"/></a>"
      ]
    },
    {
      "cell_type": "markdown",
      "metadata": {
        "id": "vEKvTj9fHINw"
      },
      "source": [
        "Ejercicio 1. Se proporciona el siguiente programa para calcular el área de un rectángulo: "
      ]
    },
    {
      "cell_type": "code",
      "metadata": {
        "id": "f9skCVO1NgPx"
      },
      "source": [
        "#IMPORTAR LA LIBRERIA NUMPY para calculo numerico\r\n",
        "import numpy as np\r\n",
        "\r\n",
        "#importar  las libreria simpy para usar calculo simbolico \r\n",
        "import sympy as sym\r\n",
        "\r\n",
        "#Imporar el modulo para las graficas \r\n",
        "import matplotlib.pyplot as plt\r\n",
        "\r\n",
        "\r\n"
      ],
      "execution_count": null,
      "outputs": []
    },
    {
      "cell_type": "code",
      "metadata": {
        "colab": {
          "base_uri": "https://localhost:8080/"
        },
        "id": "59urUEImGrlv",
        "outputId": "45ee7f04-6308-4ca2-815c-d10cff3bb68d"
      },
      "source": [
        "# Se utiliza el símbolo # para hacer comentarios.\r\n",
        "# Se define una función de 2 variables para calcular el área.  \r\n",
        "def area(x, y):\r\n",
        "    return x*y\r\n",
        "\r\n",
        "print(\"Proporciona el largo y altura del rectángulo: \", end=\"\")\r\n",
        "l = float(input())\r\n",
        "w = float(input())\r\n",
        "a = area(l, w)\r\n",
        "# Imprime el valor del área en formato libre.\r\n",
        "print(\"\\nArea = \", a)\r\n",
        "# Imprime el valor del área con 2 decimales. \r\n",
        "print(\"\\nArea = {:.2f}\".format(a))"
      ],
      "execution_count": null,
      "outputs": [
        {
          "output_type": "stream",
          "text": [
            "Proporciona el largo y altura del rectángulo: 3\n",
            "4\n",
            "\n",
            "Area =  12.0\n",
            "\n",
            "Area = 12.00\n"
          ],
          "name": "stdout"
        }
      ]
    },
    {
      "cell_type": "markdown",
      "metadata": {
        "id": "LJuL9j7cIM9l"
      },
      "source": [
        "**Nota: Usando este ejemplo, modifícalo para calcular:**\r\n",
        "\r\n",
        "\r\n",
        "**area de: un círculo y  una elipse.**\r\n",
        "\r\n",
        "**volumen de: una esfera y el de un cilindro circular.**\r\n",
        "\r\n",
        "\r\n",
        "Antes de cada celda donde se calcule un área o volumen, inserte una descripción de lo que se hace, utilizando notación Latex para las ecuaciones o símbolos. "
      ]
    },
    {
      "cell_type": "markdown",
      "metadata": {
        "id": "3fl91iGFdaHz"
      },
      "source": [
        "**Funciones para calcular areas**"
      ]
    },
    {
      "cell_type": "code",
      "metadata": {
        "id": "VL5gW76xHHtm"
      },
      "source": [
        "#calcular el area de un circulo y el volumen de una esfera con el mismo radio\r\n",
        "def areacirculo(r):\r\n",
        "  #función para calcular el area del circulo\r\n",
        "  return (np.pi)*(r**2)\r\n",
        "\r\n",
        "def areaelipse(a,b):\r\n",
        "  #función para calcular el area del elipce con el radio mayor y menor \r\n",
        "  return (np.pi)*a*b\r\n",
        "\r\n",
        "def volumenesfera(r):\r\n",
        "  #función para calcular el volumen de la esfera con el radio\r\n",
        "  return (4/3)*(np.pi)*(r**3)\r\n",
        "\r\n",
        "def vprismacicular(r,h):\r\n",
        "  return areacirculo(r)*h\r\n",
        "\r\n",
        "\r\n"
      ],
      "execution_count": null,
      "outputs": []
    },
    {
      "cell_type": "markdown",
      "metadata": {
        "id": "2Q2UBxADfyHq"
      },
      "source": [
        "**calculo de areas**"
      ]
    },
    {
      "cell_type": "code",
      "metadata": {
        "colab": {
          "base_uri": "https://localhost:8080/"
        },
        "id": "liS6SghHf_e4",
        "outputId": "d442c5ae-c559-4c0c-d76b-0ef247e38440"
      },
      "source": [
        "print(\"\"\"¿Qué figura tienes\r\n",
        "(circulo o elipce)\"\"\")\r\n",
        "\r\n",
        "figura=input()\r\n",
        "\r\n",
        "if (figura == \"circulo\"):\r\n",
        "  r=float(input(\"dame el radio del circulo \"))\r\n",
        "  print(\"El area del circulo es\", areacirculo(r))\r\n",
        "elif (\"elipce\"):\r\n",
        "  a=float(input(\"dame el radio mayor\"))\r\n",
        "  b=float(input(\"dame el radio menor\"))\r\n",
        "  print(\"El area del elipce es\", areaelipse(a,b))\r\n",
        "\r\n"
      ],
      "execution_count": null,
      "outputs": [
        {
          "output_type": "stream",
          "text": [
            "¿Qué figura tienes\n",
            "(circulo o elipce)\n",
            "circulo\n",
            "dame el radio del circulo45\n",
            "El area del circulo es 6361.725123519331\n"
          ],
          "name": "stdout"
        }
      ]
    },
    {
      "cell_type": "markdown",
      "metadata": {
        "id": "NcH8Y6uDjMs4"
      },
      "source": [
        "**calculo de volumen**"
      ]
    },
    {
      "cell_type": "code",
      "metadata": {
        "colab": {
          "base_uri": "https://localhost:8080/"
        },
        "id": "rCgqLYmxjYY3",
        "outputId": "3ac472e0-e3ad-4b48-9d2f-efb9b808c468"
      },
      "source": [
        "print(\"\"\"¿Qué figura tienes\r\n",
        "(esfera o prisma circular)\"\"\")\r\n",
        "\r\n",
        "figura=0\r\n",
        "figura=input()\r\n",
        "\r\n",
        "if (figura == \"esfera\"):\r\n",
        "  r=float(input(\"dame el radio de la esfera \"))\r\n",
        "  print(\"El volumen de la esfera es\", volumenesfera(r))\r\n",
        "elif (\"prisma circular\"):\r\n",
        "  r=float(input(\"dame el radio de la base\"))\r\n",
        "  h=float(input(\"dame la altura del prisma\"))\r\n",
        "  print(\"El volumen del prisma es\" )\r\n",
        "  print(vprismacicular(r,h))\r\n"
      ],
      "execution_count": null,
      "outputs": [
        {
          "output_type": "stream",
          "text": [
            "¿Qué figura tienes\n",
            "(esfera o prisma circular)\n",
            "prisma circular\n",
            "dame el radio de la base4\n",
            "dame la altura del prisma32\n",
            "El volumen del prisma es\n",
            "1608.495438637974\n"
          ],
          "name": "stdout"
        }
      ]
    },
    {
      "cell_type": "markdown",
      "metadata": {
        "id": "BUeZCx3Ue9pU"
      },
      "source": [
        "**Ejercicio 2**\r\n",
        "\r\n",
        "Desarrollar un programa en Python que calcule las raíces de una ecuación cuadrática. \r\n",
        "\r\n",
        "\r\n",
        "\r\n",
        "\r\n"
      ]
    },
    {
      "cell_type": "code",
      "metadata": {
        "id": "SIsnABGswfRn"
      },
      "source": [
        "#función \r\n",
        "\r\n",
        "#en esta parte craremos una función para invocar despues y así sacar las solucioes de segundo grado\r\n",
        "\r\n",
        "def resolver_ecuacion (a,b,c):\r\n",
        "  #optenrel determinante \r\n",
        "  determinante = b**2 - 4*a*c\r\n",
        "  #eligir el caso para calcular basdo en el determinate \r\n",
        "  if determinante > 0:\r\n",
        "    #la chcharronera \r\n",
        "    x1 = (-b + (b**2 - 4*a*c)**(1/2) )/(2*a)\r\n",
        "    x2 = (-b - (b**2 - 4*a*c)**(1/2) )/(2*a)\r\n",
        "    return (x1, x2)\r\n",
        "\r\n",
        "  elif determinante == 0:\r\n",
        "    x1 = -b/(2*a)\r\n",
        "    x2= 0\r\n",
        "    return (x1, x2)\r\n",
        "\r\n",
        "  else:\r\n",
        "    x1=\"no hay soluciones reales\"\r\n",
        "    x2=\"no hay soluciones reales\"\r\n",
        "    return (x1, x2)\r\n",
        "\r\n"
      ],
      "execution_count": null,
      "outputs": []
    },
    {
      "cell_type": "code",
      "metadata": {
        "colab": {
          "base_uri": "https://localhost:8080/"
        },
        "id": "SdHpqRzJkDJ_",
        "outputId": "8d01f709-0ab9-4d47-eadc-5d246209956e"
      },
      "source": [
        "\n",
        "#presentación al usario \n",
        "print(\"Hola, soy un programa que calcula ecuaciones cuadraticas\")\n",
        "print(\"en la forma ax**2 + bx + c\")\n",
        "a=float(input(\"dame una a \"))\n",
        "b=float(input(\"dame una b \"))\n",
        "c=float(input(\"dame una c \"))\n",
        "\n",
        "x1=resolver_ecuacion(a,b,c)[0]\n",
        "x2=resolver_ecuacion(a,b,c)[1]\n",
        "\n",
        "print(f\"x1 es igual a {x1}\")\n",
        "print(f\"x2 es igual a {x2}\")\n"
      ],
      "execution_count": null,
      "outputs": [
        {
          "output_type": "stream",
          "text": [
            "Hola, soy un programa que calcula ecuaciones cuadraticas\n",
            "en la forma ax**2 + bx + c\n",
            "dame una a 2\n",
            "dame una b 3\n",
            "dame una c -5\n",
            "x1 es igual a 1.0\n",
            "x2 es igual a -2.5\n"
          ],
          "name": "stdout"
        }
      ]
    },
    {
      "cell_type": "markdown",
      "metadata": {
        "id": "9q3WQQDTYmAR"
      },
      "source": [
        "**EJERCICIO 3**\r\n",
        "\r\n",
        "mplementar el método Babilonio (o Método de Herón), para calcular la raíz cuadrada de un número S, cuando la sucesión converja con un error menor a 0.01. Compare con el valor obtenido por el método Babilonio con el valor de la función np.sqrt(S)."
      ]
    },
    {
      "cell_type": "markdown",
      "metadata": {
        "id": "qy6IWvJRhrgT"
      },
      "source": [
        ""
      ]
    },
    {
      "cell_type": "code",
      "metadata": {
        "id": "2T8CI-nRiQ2d"
      },
      "source": [
        "#función para calcular raíz cuadarada con el metododo babilonico\r\n",
        "def babi_raizcuadrada(n):\r\n",
        "  x=0\r\n",
        "  x=n/2\r\n",
        "  itera=0\r\n",
        "  #nombramos elchido a la raiz cuadrada del numero obtenida con np.sqrt(n)\r\n",
        "\r\n",
        "  elchido = np.sqrt(n)\r\n",
        "\r\n",
        "#el while busca que el la diferencia entre el valor que nosottros sacamos\r\n",
        "#y el babilón sea la que especificqiuemos \r\n",
        "\r\n",
        "  while ( abs( x- elchido )>0.01):\r\n",
        "    if (x**2 ==n):\r\n",
        "      return(x)\r\n",
        "    else:\r\n",
        "      x=(x+n/x)/2\r\n",
        "      itera=itera+1\r\n",
        "      \r\n",
        "  return(x,itera)\r\n"
      ],
      "execution_count": null,
      "outputs": []
    },
    {
      "cell_type": "code",
      "metadata": {
        "colab": {
          "base_uri": "https://localhost:8080/"
        },
        "id": "RXmvWE01kQI4",
        "outputId": "785e5ba3-fc62-41c5-a0ce-be77d99984a5"
      },
      "source": [
        "s=float(input(\"dame numero  \"))\r\n",
        "\r\n",
        "r = babi_raizcuadrada(s)\r\n",
        "\r\n",
        "print(\"La raiz aproximada es\"r[0])\r\n",
        "print(f\"con {r[1]} iteracciónes\")\r\n",
        "\r\n"
      ],
      "execution_count": null,
      "outputs": [
        {
          "output_type": "stream",
          "text": [
            "dame numero  30\n",
            "5.477225575302472\n",
            "5\n"
          ],
          "name": "stdout"
        }
      ]
    },
    {
      "cell_type": "markdown",
      "metadata": {
        "id": "mjHvxD15EMSW"
      },
      "source": [
        "**Ejercicio 4**\r\n"
      ]
    },
    {
      "cell_type": "markdown",
      "metadata": {
        "id": "tjiwxJPGEehM"
      },
      "source": [
        "Reproduce la figura que aparece inmediatamente abajo en el artículo de Wikipedia sobre Series de Taylor, que muestra la aproximación de la función ln(1+x) alrededor de x=0.\r\n",
        "\r\n",
        " "
      ]
    },
    {
      "cell_type": "markdown",
      "metadata": {
        "id": "OpSlaz2-Enc_"
      },
      "source": [
        "$$ln(1+x)=\\sum_{n=1}^{\\infty}(-1)^{n+1}\\frac{x^n}{n}=x-\\frac{x^2}{2}+\\frac{x^3}{3}-\\cdots$$ \r\n",
        "\r\n",
        "para $-1 \\leq x\\leq 1$\r\n"
      ]
    },
    {
      "cell_type": "markdown",
      "metadata": {
        "id": "Un3V2-oLE6RG"
      },
      "source": [
        "![image.png](data:image/png;base64,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)\r\n"
      ]
    },
    {
      "cell_type": "markdown",
      "metadata": {
        "id": "Py0avxMeIGkA"
      },
      "source": [
        ""
      ]
    },
    {
      "cell_type": "code",
      "metadata": {
        "id": "xZqHhWRhgEfS"
      },
      "source": [
        "#Serie de taylord para ln(x+1)"
      ],
      "execution_count": null,
      "outputs": []
    },
    {
      "cell_type": "code",
      "metadata": {
        "colab": {
          "base_uri": "https://localhost:8080/"
        },
        "id": "y43LFF9L_YzV",
        "outputId": "e80734ea-6c23-4a63-871c-38a2bcc182d3"
      },
      "source": [
        "\r\n",
        "va=0\r\n",
        "mas=25\r\n",
        "X=0.5\r\n",
        "n=1\r\n",
        "\r\n",
        "while (n<mas):\r\n",
        "  va = va + (((-1)**(n+1)) * (x**n))/(n)\r\n",
        "  n=n+1\r\n",
        "\r\n",
        "\r\n",
        "print(va)\r\n",
        "  "
      ],
      "execution_count": null,
      "outputs": [
        {
          "output_type": "stream",
          "text": [
            "[-2.33882737e+03 -1.50819903e+03 -9.67949812e+02 -6.18666944e+02\n",
            " -3.94156366e+02 -2.50640180e+02 -1.59363228e+02 -1.01567769e+02\n",
            " -6.51018466e+01 -4.21467901e+01 -2.77058038e+01 -1.86063008e+01\n",
            " -1.28463829e+01 -9.17005596e+00 -6.79326388e+00 -5.22856123e+00\n",
            " -4.17376875e+00 -3.44178903e+00 -2.91668245e+00 -2.52636029e+00\n",
            " -2.22570949e+00 -1.98621584e+00 -1.78960697e+00 -1.62396588e+00\n",
            " -1.48135484e+00 -1.35635912e+00 -1.24518946e+00 -1.14512420e+00\n",
            " -1.05415813e+00 -9.70778242e-01 -8.93817696e-01 -8.22358867e-01\n",
            " -7.55667527e-01 -6.93147178e-01 -6.34306680e-01 -5.78736829e-01\n",
            " -5.26093096e-01 -4.76082675e-01 -4.28454626e-01 -3.82992252e-01\n",
            " -3.39507140e-01 -2.97834444e-01 -2.57829109e-01 -2.19362828e-01\n",
            " -1.82321557e-01 -1.46603474e-01 -1.12117298e-01 -7.87808779e-02\n",
            " -4.65200156e-02 -1.52674721e-02  1.50378774e-02  4.44517626e-02\n",
            "  7.30251350e-02  1.00804699e-01  1.27833372e-01  1.54150680e-01\n",
            "  1.79793110e-01  2.04794413e-01  2.29185866e-01  2.52996514e-01\n",
            "  2.76253377e-01  2.98981628e-01  3.21204764e-01  3.42944751e-01\n",
            "  3.64222150e-01  3.85056236e-01  4.05465107e-01  4.25465771e-01\n",
            "  4.45074233e-01  4.64305559e-01  4.83173923e-01  5.01692592e-01\n",
            "  5.19873781e-01  5.37728185e-01  5.55263756e-01  5.72482756e-01\n",
            "  5.89374998e-01  6.05902952e-01  6.21969960e-01  6.37354344e-01\n",
            "  6.51576421e-01  6.63636616e-01  6.71511407e-01  6.71203767e-01\n",
            "  6.54989811e-01  6.08241729e-01  5.03772089e-01  2.91932627e-01\n",
            " -1.16447989e-01 -8.79031069e-01 -2.27045530e+00 -4.76241831e+00\n",
            " -9.15426536e+00 -1.67833766e+01 -2.98602293e+01 -5.19961853e+01\n",
            " -8.90261828e+01 -1.50278330e+02 -2.50514487e+02 -4.12869382e+02]\n"
          ],
          "name": "stdout"
        }
      ]
    },
    {
      "cell_type": "code",
      "metadata": {
        "colab": {
          "base_uri": "https://localhost:8080/",
          "height": 286
        },
        "id": "clRRt22LKQRr",
        "outputId": "df49a087-331c-4d83-f21a-e8daa742935e"
      },
      "source": [
        "# Cargar la subbiblioteca pytlot de Matplotlib \r\n",
        "\r\n",
        "import matplotlib.pyplot as plt\r\n",
        "import numpy as np\r\n",
        "\r\n",
        "\r\n",
        "# Gráfica de funciones\r\n",
        "# Definición de variables y funciones\r\n",
        "\r\n",
        "x = np.linspace(-1.5,1.5,100)  # arrego de 100 puntos entre -1.5 y 1.5\r\n",
        "\r\n",
        "y1 = x-x**2/2+x**3/3-x**4/4     # y será también un arreglo de 100 puntos automáticamente \r\n",
        "\r\n",
        "y2 = x-x**2/2+x**3/3-x**4/4+x**5/5-x**6/6+x**7/7\r\n",
        "\r\n",
        "y3 = x-x**2/2+x**3/3-x**4/4+x**5/5-x**6/6+x**7/7-x**8/8+x**9/9-x**10/10+x**11/11\r\n",
        "\r\n",
        "y4 = x-x**2/2+x**3/3-x**4/4+x**5/5-x**6/6+x**7/7-x**8/8+x**9/9-x**10/10+x**11/11-x**12/12+x**13/13-x**14/14+x**15/15-x**16/16\r\n",
        "\r\n",
        "y5 = np.log(1+x)\r\n",
        "\r\n",
        "# Creación de la gráficas\r\n",
        "\r\n",
        "#plt.subplot(111)\r\n",
        "\r\n",
        "#plt.xlabel(\"X label\")\r\n",
        "\r\n",
        "#plt.ylabel(\"Y label\")\r\n",
        "\r\n",
        "#plt.title(\"Title\")\r\n",
        "\r\n",
        "\r\n",
        "# Graficar varias funciones\r\n",
        "\r\n",
        "plt.plot(x,y1, label=\"T_4\")\r\n",
        "\r\n",
        "plt.plot(x,y2, label=\"T_7\")\r\n",
        "\r\n",
        "plt.plot(x,y3, label=\"T_11\")\r\n",
        "\r\n",
        "plt.plot(x,y4, label=\"T_16\")\r\n",
        "\r\n",
        "plt.plot(x,y5, label=\"log(1+x)\")\r\n",
        "\r\n",
        "# Agregar una malla\r\n",
        "\r\n",
        "plt.grid(True)\r\n",
        "\r\n",
        "# Fijar los límites en el eje Y.\r\n",
        "\r\n",
        "plt.ylim(-4, 2)\r\n",
        "\r\n",
        "# Ubicación de las etiquetas de las funciones\r\n",
        "\r\n",
        "plt.legend(bbox_to_anchor=(1,1), loc=\"best\")\r\n",
        "\r\n",
        "plt.show()\r\n",
        "\r\n",
        "#plt.savefig('plot.png')  # Si se desea guardar en un archivo la imagen de la gráfica"
      ],
      "execution_count": null,
      "outputs": [
        {
          "output_type": "stream",
          "text": [
            "/usr/local/lib/python3.6/dist-packages/ipykernel_launcher.py:20: RuntimeWarning: invalid value encountered in log\n"
          ],
          "name": "stderr"
        },
        {
          "output_type": "display_data",
          "data": {
            "image/png": "[encoded data removed]",
            "text/plain": [
              "<Figure size 432x288 with 1 Axes>"
            ]
          },
          "metadata": {
            "tags": [],
            "needs_background": "light"
          }
        }
      ]
    },
    {
      "cell_type": "code",
      "metadata": {
        "id": "wD3XI_XPEERO"
      },
      "source": [
        ""
      ],
      "execution_count": null,
      "outputs": []
    }
  ]
}